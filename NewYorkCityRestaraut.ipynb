{
  "nbformat": 4,
  "nbformat_minor": 0,
  "metadata": {
    "colab": {
      "name": "NewYorkCityRestaraut.ipynb",
      "provenance": [],
      "collapsed_sections": [],
      "authorship_tag": "ABX9TyM93GdTRA5zN1sLSOQ2nHQw"
    },
    "kernelspec": {
      "name": "python3",
      "display_name": "Python 3"
    }
  },
  "cells": [
    {
      "cell_type": "markdown",
      "metadata": {
        "id": "ZBuN5IRDiybB"
      },
      "source": [
        "\n",
        "**Introduction**\n",
        "\n",
        "New York City's demographics show that it is a large and ethnically diverse metropolis. It is the largest city in the United States with a long history of international immigration. New York City was home to nearly 8.5 million people in 2018, accounting for over 40% of the population of New York State and a slightly lower percentage of the New York metropolitan area, home to approximately 23.6 million. Over the last decade the city has been growing faster than the region. The New York region continues to be by far the leading metropolitan gateway for legal immigrants admitted into the United States.\n",
        "\n",
        "This final project explores the best locations for Italian restaurants throughout the city of New York. As New York is the most diverse city in the world (800 languages are spoken in New York), it has a long tradition of different ethnical restaurants. Now when the idea of a healthy lifestyle conquered the minds of people all over the country, Japanese restaurants became extremely popular, as they offer a healthy alternative to regular American eating habits. That's why Potentially the owner of the new East European restaurant can have great success and consistent profit. However, as with any business, opening a new restaurant requires serious considerations and is more complicated than it seems from the first glance. In particular, the location of the restaurant is one of the most important factors that will affect whether it will have success or a failure. So our project will attempt to answer the questions “Where should the investor open a Japanese Restaurant?” and “Where should I go If I want great Japanese food?”\n",
        "Data\n",
        "\n",
        "In order to answer the above questions, data on New York City neighborhoods, boroughs to include boundaries, latitude, longitude, restaurants, and restaurant ratings and tips are required.\n",
        "\n",
        "New York City data containing the neighborhoods and boroughs, latitudes, and longitudes will be obtained from the data source: https://cocl.us/new_york_dataset\n",
        "\n",
        "All data related to locations and quality of Italian restaurants will be obtained via the FourSquare API utilized via the Request library in Python.\n",
        "Methodology\n",
        "\n",
        "• Data will be collected from https://cocl.us/new_york_dataset and cleaned and processed into a dataframe.\n",
        "\n",
        "• FourSquare be used to locate all venues and then filtered by Italian restaurants. Ratings, tips, and likes by users will be counted and added to the dataframe.\n",
        "\n",
        "• Data will be sorted based on rankings.\n",
        "\n",
        "• Finally, the data be will be visually assessed using graphing from Python libraries.\n",
        "Problem Statement\n",
        "\n",
        "    What is / are the best location(s) for Japanese cuisine in New York City?\n",
        "    In what Neighborhood and/or borough should the investor open a Japanese restaurant to have the best chance of being successful?\n",
        "    Where would I go in New York City to have the best Japanese food?\n",
        "\n",
        "Before we get the data and start exploring it, let's import all required libraries ."
      ]
    },
    {
      "cell_type": "code",
      "metadata": {
        "id": "a7wMmGwpikl-",
        "outputId": "60102177-c4ce-47e7-a960-6c2a610f03c6",
        "colab": {
          "base_uri": "https://localhost:8080/",
          "height": 36
        }
      },
      "source": [
        "import pandas as pd\n",
        "import numpy as np\n",
        "import requests\n",
        "#from bs4 import BeautifulSoup\n",
        "import os\n",
        "#!conda install -c conda-forge folium=0.5.0 --yes\n",
        "import folium \n",
        "#!conda install -c conda-forge geopy --yes\n",
        "from geopy.geocoders import Nominatim \n",
        "import matplotlib.pyplot as plt\n",
        "import matplotlib.cm as cm\n",
        "import matplotlib.colors as colors\n",
        "%matplotlib inline\n",
        "import seaborn as sns\n",
        "\n",
        "print('Libraries imported.')"
      ],
      "execution_count": 47,
      "outputs": [
        {
          "output_type": "stream",
          "text": [
            "Libraries imported.\n"
          ],
          "name": "stdout"
        }
      ]
    },
    {
      "cell_type": "markdown",
      "metadata": {
        "id": "AM53j6dllCXB"
      },
      "source": [
        "**The functions we are going to use later in this project**"
      ]
    },
    {
      "cell_type": "code",
      "metadata": {
        "id": "eu0PkZk_kTk6"
      },
      "source": [
        "\n",
        "#CLIENT_ID = 'XXXXXXXXXXXXXXXXXXXXXXXXXXXXXXXXXXXXXXXXX' # your Foursquare ID\n",
        "#CLIENT_SECRET = 'XXXXXXXXXXXXXXXXXXXXXXXXXXXXXXXXXXXXXXXXXXXXXXX' # your Foursquare Secret\n",
        "#VERSION = '20180605' # Foursquare API version\n",
        "# Define Foursquare Credentials and Version\n",
        "\n",
        "def geo_location(address):\n",
        "    # get geo location of address\n",
        "    geolocator = Nominatim(user_agent=\"foursquare_agent\")\n",
        "    location = geolocator.geocode(address)\n",
        "    latitude = location.latitude\n",
        "    longitude = location.longitude\n",
        "    return latitude,longitude\n",
        "\n",
        "# Define Foursquare Credentials and Version\n",
        "#######Client Id\n",
        "\n",
        "#5MBIMRG001DL2I0AS1N2I0KPT0DGUUSM0RWPHPMXRY5KYW0D\n",
        "#Client Secret\n",
        "\n",
        "# GIJD4LLOAIFFIHKOCRDCKSR2MXXLNTTCMNMRRXN55H4OJIIU\n",
        "\n",
        "\n",
        "CLIENT_ID = '5MBIMRG001DL2I0AS1N2I0KPT0DGUUSM0RWPHPMXRY5KYW0D'  \n",
        "CLIENT_SECRET = 'GIJD4LLOAIFFIHKOCRDCKSR2MXXLNTTCMNMRRXN55H4OJIIU' \n",
        "VERSION = '20201017'\n",
        "\n",
        "\n",
        "def geo_location(address):\n",
        "    # get geo location of address\n",
        "    geolocator = Nominatim(user_agent=\"foursquare_agent\")\n",
        "    location = geolocator.geocode(address)\n",
        "    latitude = location.latitude\n",
        "    longitude = location.longitude\n",
        "    return latitude,longitude\n",
        "\n",
        "\n",
        "def get_venues(lat,lng):\n",
        "    #set variables\n",
        "    radius=400\n",
        "    LIMIT=100\n",
        "    #url to fetch data from foursquare api\n",
        "    url = 'https://api.foursquare.com/v2/venues/explore?&client_id={}&client_secret={}&v={}&ll={},{}&radius={}&limit={}'.format(\n",
        "            CLIENT_ID, \n",
        "            CLIENT_SECRET, \n",
        "            VERSION, \n",
        "            lat, \n",
        "            lng, \n",
        "            radius, \n",
        "            LIMIT)\n",
        "    # get all the data\n",
        "    results = requests.get(url).json()\n",
        "    venue_data=results[\"response\"]['groups'][0]['items']\n",
        "    venue_details=[]\n",
        "    for row in venue_data:\n",
        "        try:\n",
        "            venue_id=row['venue']['id']\n",
        "            venue_name=row['venue']['name']\n",
        "            venue_category=row['venue']['categories'][0]['name']\n",
        "            venue_details.append([venue_id,venue_name,venue_category])\n",
        "        except KeyError:\n",
        "            pass\n",
        "    column_names=['ID','Name','Category']\n",
        "    df = pd.DataFrame(venue_details,columns=column_names)\n",
        "    return df\n",
        "\n",
        "\n",
        "def get_venue_details(venue_id):\n",
        "    #url to fetch data from foursquare api\n",
        "    url = 'https://api.foursquare.com/v2/venues/{}?&client_id={}&client_secret={}&v={}'.format(\n",
        "            venue_id,\n",
        "            CLIENT_ID, \n",
        "            CLIENT_SECRET, \n",
        "            VERSION)\n",
        "    # get all the data\n",
        "    results = requests.get(url).json()\n",
        "    print(results)\n",
        "    venue_data=results['response']['venue']\n",
        "    venue_details=[]\n",
        "    try:\n",
        "        venue_id=venue_data['id']\n",
        "        venue_name=venue_data['name']\n",
        "        venue_likes=venue_data['likes']['count']\n",
        "        venue_rating=venue_data['rating']\n",
        "        venue_tips=venue_data['tips']['count']\n",
        "        venue_details.append([venue_id,venue_name,venue_likes,venue_rating,venue_tips])\n",
        "    except KeyError:\n",
        "        pass\n",
        "    column_names=['ID','Name','Likes','Rating','Tips']\n",
        "    df = pd.DataFrame(venue_details,columns=column_names)\n",
        "    return df\n",
        "\n",
        "\n",
        "def get_new_york_data():\n",
        "    url='https://cocl.us/new_york_dataset'\n",
        "    resp=requests.get(url).json()\n",
        "    # all data is present in features label\n",
        "    features=resp['features']\n",
        "    # define the dataframe columns\n",
        "    column_names = ['Borough', 'Neighborhood', 'Latitude', 'Longitude'] \n",
        "    # instantiate the dataframe\n",
        "    new_york_data = pd.DataFrame(columns=column_names)\n",
        "    for data in features:\n",
        "        borough = data['properties']['borough'] \n",
        "        neighborhood_name = data['properties']['name']\n",
        "        neighborhood_latlon = data['geometry']['coordinates']\n",
        "        neighborhood_lat = neighborhood_latlon[1]\n",
        "        neighborhood_lon = neighborhood_latlon[0]\n",
        "        new_york_data = new_york_data.append({'Borough': borough,\n",
        "                                          'Neighborhood': neighborhood_name,\n",
        "                                          'Latitude': neighborhood_lat,\n",
        "                                          'Longitude': neighborhood_lon}, ignore_index=True)\n",
        "    return new_york_data"
      ],
      "execution_count": 54,
      "outputs": []
    },
    {
      "cell_type": "markdown",
      "metadata": {
        "id": "DElHL15Hk3U0"
      },
      "source": [
        "**Now let's use the above codes to get our initial NYC data**"
      ]
    },
    {
      "cell_type": "code",
      "metadata": {
        "id": "3gRE_AalkT2E",
        "outputId": "77627987-161a-429a-9382-84d695b433b5",
        "colab": {
          "base_uri": "https://localhost:8080/",
          "height": 206
        }
      },
      "source": [
        "ny_data = get_new_york_data()\n",
        "ny_data.head()"
      ],
      "execution_count": 55,
      "outputs": [
        {
          "output_type": "execute_result",
          "data": {
            "text/html": [
              "<div>\n",
              "<style scoped>\n",
              "    .dataframe tbody tr th:only-of-type {\n",
              "        vertical-align: middle;\n",
              "    }\n",
              "\n",
              "    .dataframe tbody tr th {\n",
              "        vertical-align: top;\n",
              "    }\n",
              "\n",
              "    .dataframe thead th {\n",
              "        text-align: right;\n",
              "    }\n",
              "</style>\n",
              "<table border=\"1\" class=\"dataframe\">\n",
              "  <thead>\n",
              "    <tr style=\"text-align: right;\">\n",
              "      <th></th>\n",
              "      <th>Borough</th>\n",
              "      <th>Neighborhood</th>\n",
              "      <th>Latitude</th>\n",
              "      <th>Longitude</th>\n",
              "    </tr>\n",
              "  </thead>\n",
              "  <tbody>\n",
              "    <tr>\n",
              "      <th>0</th>\n",
              "      <td>Bronx</td>\n",
              "      <td>Wakefield</td>\n",
              "      <td>40.894705</td>\n",
              "      <td>-73.847201</td>\n",
              "    </tr>\n",
              "    <tr>\n",
              "      <th>1</th>\n",
              "      <td>Bronx</td>\n",
              "      <td>Co-op City</td>\n",
              "      <td>40.874294</td>\n",
              "      <td>-73.829939</td>\n",
              "    </tr>\n",
              "    <tr>\n",
              "      <th>2</th>\n",
              "      <td>Bronx</td>\n",
              "      <td>Eastchester</td>\n",
              "      <td>40.887556</td>\n",
              "      <td>-73.827806</td>\n",
              "    </tr>\n",
              "    <tr>\n",
              "      <th>3</th>\n",
              "      <td>Bronx</td>\n",
              "      <td>Fieldston</td>\n",
              "      <td>40.895437</td>\n",
              "      <td>-73.905643</td>\n",
              "    </tr>\n",
              "    <tr>\n",
              "      <th>4</th>\n",
              "      <td>Bronx</td>\n",
              "      <td>Riverdale</td>\n",
              "      <td>40.890834</td>\n",
              "      <td>-73.912585</td>\n",
              "    </tr>\n",
              "  </tbody>\n",
              "</table>\n",
              "</div>"
            ],
            "text/plain": [
              "  Borough Neighborhood   Latitude  Longitude\n",
              "0   Bronx    Wakefield  40.894705 -73.847201\n",
              "1   Bronx   Co-op City  40.874294 -73.829939\n",
              "2   Bronx  Eastchester  40.887556 -73.827806\n",
              "3   Bronx    Fieldston  40.895437 -73.905643\n",
              "4   Bronx    Riverdale  40.890834 -73.912585"
            ]
          },
          "metadata": {
            "tags": []
          },
          "execution_count": 55
        }
      ]
    },
    {
      "cell_type": "code",
      "metadata": {
        "id": "l8O6r3rsll1j",
        "outputId": "652192a7-c768-49b4-8c98-6f530405ef08",
        "colab": {
          "base_uri": "https://localhost:8080/",
          "height": 36
        }
      },
      "source": [
        "ny_data.shape"
      ],
      "execution_count": 56,
      "outputs": [
        {
          "output_type": "execute_result",
          "data": {
            "text/plain": [
              "(306, 4)"
            ]
          },
          "metadata": {
            "tags": []
          },
          "execution_count": 56
        }
      ]
    },
    {
      "cell_type": "markdown",
      "metadata": {
        "id": "pI1_NI1clr1c"
      },
      "source": [
        "\n",
        "**Initial Data Analysis**"
      ]
    },
    {
      "cell_type": "code",
      "metadata": {
        "id": "cVzbduD6ly2o",
        "outputId": "3eba720d-d80c-4399-a1ae-3bafc6466c00",
        "colab": {
          "base_uri": "https://localhost:8080/",
          "height": 360
        }
      },
      "source": [
        "clr = \"green\"\n",
        "ny_data.groupby('Borough')['Neighborhood'].count().plot.bar(figsize=(10,5), color=clr)\n",
        "plt.title('Neighborhoods per Borough: NYC', fontsize = 20)\n",
        "plt.xlabel('Borough', fontsize = 15)\n",
        "plt.ylabel('No. Neighborhoods',fontsize = 15)\n",
        "plt.xticks(rotation = 'horizontal')\n",
        "plt.legend()\n",
        "plt.show()"
      ],
      "execution_count": 57,
      "outputs": [
        {
          "output_type": "display_data",
          "data": {
            "image/png": "[encoded data removed]",
            "text/plain": [
              "<Figure size 720x360 with 1 Axes>"
            ]
          },
          "metadata": {
            "tags": [],
            "needs_background": "light"
          }
        }
      ]
    },
    {
      "cell_type": "markdown",
      "metadata": {
        "id": "cJdt45AAl9xr"
      },
      "source": [
        "Let's analyze further and see how many Japanese restaurants there are in each neighborhood and borough. After it, graph the results."
      ]
    },
    {
      "cell_type": "code",
      "metadata": {
        "id": "eWfdeP7Bl_LY",
        "outputId": "ff2f3e79-b1a3-450a-99b7-1b96290e235a",
        "colab": {
          "base_uri": "https://localhost:8080/",
          "height": 1000
        }
      },
      "source": [
        "# queens has most neighborhoods\n",
        "# prepare neighborhood list that contains japanese restaurants\n",
        "column_names=['Borough', 'Neighborhood', 'ID','Name']\n",
        "japanese_rest_ny=pd.DataFrame(columns=column_names)\n",
        "count=1\n",
        "for row in ny_data.values.tolist():\n",
        "    Borough, Neighborhood, Latitude, Longitude=row\n",
        "    venues = get_venues(Latitude, Longitude)\n",
        "    japanese_restaurants=venues[venues['Category']=='Japanese Restaurant']   \n",
        "    print('(',count,'/',len(ny_data),')','Japanese Restaurants in '+Neighborhood+', '+Borough+':'+str(len(japanese_restaurants)))\n",
        "    print(row)\n",
        "    for resturant_detail in japanese_restaurants.values.tolist():\n",
        "        id, name , category=resturant_detail\n",
        "        japanese_rest_ny = japanese_rest_ny.append({'Borough': Borough,\n",
        "                                                'Neighborhood': Neighborhood, \n",
        "                                                'ID': id,                                                 'Name' : name\n",
        "                                               }, ignore_index=True)\n",
        "    count+=1"
      ],
      "execution_count": 58,
      "outputs": [
        {
          "output_type": "stream",
          "text": [
            "( 1 / 306 ) Japanese Restaurants in Wakefield, Bronx:0\n",
            "['Bronx', 'Wakefield', 40.89470517661, -73.84720052054902]\n",
            "( 2 / 306 ) Japanese Restaurants in Co-op City, Bronx:0\n",
            "['Bronx', 'Co-op City', 40.87429419303012, -73.82993910812398]\n",
            "( 3 / 306 ) Japanese Restaurants in Eastchester, Bronx:0\n",
            "['Bronx', 'Eastchester', 40.887555677350775, -73.82780644716412]\n",
            "( 4 / 306 ) Japanese Restaurants in Fieldston, Bronx:0\n",
            "['Bronx', 'Fieldston', 40.89543742690383, -73.90564259591682]\n",
            "( 5 / 306 ) Japanese Restaurants in Riverdale, Bronx:0\n",
            "['Bronx', 'Riverdale', 40.890834493891305, -73.9125854610857]\n",
            "( 6 / 306 ) Japanese Restaurants in Kingsbridge, Bronx:0\n",
            "['Bronx', 'Kingsbridge', 40.88168737120521, -73.90281798724604]\n",
            "( 7 / 306 ) Japanese Restaurants in Marble Hill, Manhattan:0\n",
            "['Manhattan', 'Marble Hill', 40.87655077879964, -73.91065965862981]\n",
            "( 8 / 306 ) Japanese Restaurants in Woodlawn, Bronx:0\n",
            "['Bronx', 'Woodlawn', 40.89827261213805, -73.86731496814176]\n",
            "( 9 / 306 ) Japanese Restaurants in Norwood, Bronx:0\n",
            "['Bronx', 'Norwood', 40.87722415599446, -73.8793907395681]\n",
            "( 10 / 306 ) Japanese Restaurants in Williamsbridge, Bronx:0\n",
            "['Bronx', 'Williamsbridge', 40.88103887819211, -73.85744642974207]\n",
            "( 11 / 306 ) Japanese Restaurants in Baychester, Bronx:0\n",
            "['Bronx', 'Baychester', 40.866858107252696, -73.83579759808117]\n",
            "( 12 / 306 ) Japanese Restaurants in Pelham Parkway, Bronx:0\n",
            "['Bronx', 'Pelham Parkway', 40.85741349808865, -73.85475564017999]\n",
            "( 13 / 306 ) Japanese Restaurants in City Island, Bronx:0\n",
            "['Bronx', 'City Island', 40.84724670491813, -73.78648845267413]\n",
            "( 14 / 306 ) Japanese Restaurants in Bedford Park, Bronx:0\n",
            "['Bronx', 'Bedford Park', 40.870185164975325, -73.8855121841913]\n",
            "( 15 / 306 ) Japanese Restaurants in University Heights, Bronx:0\n",
            "['Bronx', 'University Heights', 40.85572707719664, -73.9104159619131]\n",
            "( 16 / 306 ) Japanese Restaurants in Morris Heights, Bronx:0\n",
            "['Bronx', 'Morris Heights', 40.84789792606271, -73.91967159119565]\n",
            "( 17 / 306 ) Japanese Restaurants in Fordham, Bronx:0\n",
            "['Bronx', 'Fordham', 40.86099679638654, -73.89642655981623]\n",
            "( 18 / 306 ) Japanese Restaurants in East Tremont, Bronx:0\n",
            "['Bronx', 'East Tremont', 40.84269615786053, -73.88735617532338]\n",
            "( 19 / 306 ) Japanese Restaurants in West Farms, Bronx:0\n",
            "['Bronx', 'West Farms', 40.83947505672653, -73.87774474910545]\n",
            "( 20 / 306 ) Japanese Restaurants in High  Bridge, Bronx:0\n",
            "['Bronx', 'High  Bridge', 40.836623010706056, -73.9261020935813]\n",
            "( 21 / 306 ) Japanese Restaurants in Melrose, Bronx:0\n",
            "['Bronx', 'Melrose', 40.819754370594936, -73.90942160757436]\n",
            "( 22 / 306 ) Japanese Restaurants in Mott Haven, Bronx:0\n",
            "['Bronx', 'Mott Haven', 40.80623874935177, -73.91609987487575]\n",
            "( 23 / 306 ) Japanese Restaurants in Port Morris, Bronx:0\n",
            "['Bronx', 'Port Morris', 40.801663627756206, -73.91322139386135]\n",
            "( 24 / 306 ) Japanese Restaurants in Longwood, Bronx:0\n",
            "['Bronx', 'Longwood', 40.81509904545822, -73.8957882009446]\n",
            "( 25 / 306 ) Japanese Restaurants in Hunts Point, Bronx:0\n",
            "['Bronx', 'Hunts Point', 40.80972987938709, -73.88331505955291]\n",
            "( 26 / 306 ) Japanese Restaurants in Morrisania, Bronx:0\n",
            "['Bronx', 'Morrisania', 40.82359198585534, -73.90150648943059]\n",
            "( 27 / 306 ) Japanese Restaurants in Soundview, Bronx:0\n",
            "['Bronx', 'Soundview', 40.821012197914015, -73.86574609554924]\n",
            "( 28 / 306 ) Japanese Restaurants in Clason Point, Bronx:0\n",
            "['Bronx', 'Clason Point', 40.80655112003589, -73.85414416189266]\n",
            "( 29 / 306 ) Japanese Restaurants in Throgs Neck, Bronx:0\n",
            "['Bronx', 'Throgs Neck', 40.81510925804005, -73.81635002158441]\n",
            "( 30 / 306 ) Japanese Restaurants in Country Club, Bronx:0\n",
            "['Bronx', 'Country Club', 40.844245936947374, -73.8240992675385]\n",
            "( 31 / 306 ) Japanese Restaurants in Parkchester, Bronx:0\n",
            "['Bronx', 'Parkchester', 40.837937822267286, -73.85600310535783]\n",
            "( 32 / 306 ) Japanese Restaurants in Westchester Square, Bronx:0\n",
            "['Bronx', 'Westchester Square', 40.8406194964327, -73.84219407604444]\n",
            "( 33 / 306 ) Japanese Restaurants in Van Nest, Bronx:0\n",
            "['Bronx', 'Van Nest', 40.84360847124718, -73.8662991807561]\n",
            "( 34 / 306 ) Japanese Restaurants in Morris Park, Bronx:0\n",
            "['Bronx', 'Morris Park', 40.847549063536334, -73.85040178030421]\n",
            "( 35 / 306 ) Japanese Restaurants in Belmont, Bronx:0\n",
            "['Bronx', 'Belmont', 40.85727710073895, -73.88845196134804]\n",
            "( 36 / 306 ) Japanese Restaurants in Spuyten Duyvil, Bronx:0\n",
            "['Bronx', 'Spuyten Duyvil', 40.88139497727086, -73.91719048210393]\n",
            "( 37 / 306 ) Japanese Restaurants in North Riverdale, Bronx:0\n",
            "['Bronx', 'North Riverdale', 40.90854282950666, -73.90453054908927]\n",
            "( 38 / 306 ) Japanese Restaurants in Pelham Bay, Bronx:0\n",
            "['Bronx', 'Pelham Bay', 40.85064140940335, -73.8320737824047]\n",
            "( 39 / 306 ) Japanese Restaurants in Schuylerville, Bronx:0\n",
            "['Bronx', 'Schuylerville', 40.82657951686922, -73.82620275994073]\n",
            "( 40 / 306 ) Japanese Restaurants in Edgewater Park, Bronx:0\n",
            "['Bronx', 'Edgewater Park', 40.821986118163494, -73.81388514428619]\n",
            "( 41 / 306 ) Japanese Restaurants in Castle Hill, Bronx:0\n",
            "['Bronx', 'Castle Hill', 40.819014376988314, -73.84802729582735]\n",
            "( 42 / 306 ) Japanese Restaurants in Olinville, Bronx:0\n",
            "['Bronx', 'Olinville', 40.87137078192371, -73.86332361652777]\n",
            "( 43 / 306 ) Japanese Restaurants in Pelham Gardens, Bronx:0\n",
            "['Bronx', 'Pelham Gardens', 40.86296562477998, -73.84161194831223]\n",
            "( 44 / 306 ) Japanese Restaurants in Concourse, Bronx:0\n",
            "['Bronx', 'Concourse', 40.83428380733851, -73.91558941773444]\n",
            "( 45 / 306 ) Japanese Restaurants in Unionport, Bronx:0\n",
            "['Bronx', 'Unionport', 40.82977429787161, -73.85053524451935]\n",
            "( 46 / 306 ) Japanese Restaurants in Edenwald, Bronx:0\n",
            "['Bronx', 'Edenwald', 40.88456130303732, -73.84808271877168]\n",
            "( 47 / 306 ) Japanese Restaurants in Bay Ridge, Brooklyn:0\n",
            "['Brooklyn', 'Bay Ridge', 40.625801065010656, -74.03062069353813]\n",
            "( 48 / 306 ) Japanese Restaurants in Bensonhurst, Brooklyn:0\n",
            "['Brooklyn', 'Bensonhurst', 40.61100890202044, -73.99517998380729]\n",
            "( 49 / 306 ) Japanese Restaurants in Sunset Park, Brooklyn:0\n",
            "['Brooklyn', 'Sunset Park', 40.64510294925429, -74.01031618527784]\n",
            "( 50 / 306 ) Japanese Restaurants in Greenpoint, Brooklyn:0\n",
            "['Brooklyn', 'Greenpoint', 40.7302009848647, -73.95424093127393]\n",
            "( 51 / 306 ) Japanese Restaurants in Gravesend, Brooklyn:0\n",
            "['Brooklyn', 'Gravesend', 40.59526001306593, -73.97347087708445]\n",
            "( 52 / 306 ) Japanese Restaurants in Brighton Beach, Brooklyn:0\n",
            "['Brooklyn', 'Brighton Beach', 40.57682506566604, -73.96509448785336]\n",
            "( 53 / 306 ) Japanese Restaurants in Sheepshead Bay, Brooklyn:0\n",
            "['Brooklyn', 'Sheepshead Bay', 40.58689012678384, -73.94318640482979]\n",
            "( 54 / 306 ) Japanese Restaurants in Manhattan Terrace, Brooklyn:0\n",
            "['Brooklyn', 'Manhattan Terrace', 40.61443251335098, -73.95743840559939]\n",
            "( 55 / 306 ) Japanese Restaurants in Flatbush, Brooklyn:0\n",
            "['Brooklyn', 'Flatbush', 40.63632589026677, -73.95840106533903]\n",
            "( 56 / 306 ) Japanese Restaurants in Crown Heights, Brooklyn:0\n",
            "['Brooklyn', 'Crown Heights', 40.67082917695294, -73.94329119073582]\n",
            "( 57 / 306 ) Japanese Restaurants in East Flatbush, Brooklyn:0\n",
            "['Brooklyn', 'East Flatbush', 40.64171776668961, -73.93610256185836]\n",
            "( 58 / 306 ) Japanese Restaurants in Kensington, Brooklyn:1\n",
            "['Brooklyn', 'Kensington', 40.642381958003526, -73.98042110559474]\n",
            "( 59 / 306 ) Japanese Restaurants in Windsor Terrace, Brooklyn:0\n",
            "['Brooklyn', 'Windsor Terrace', 40.65694583575104, -73.98007340430172]\n",
            "( 60 / 306 ) Japanese Restaurants in Prospect Heights, Brooklyn:1\n",
            "['Brooklyn', 'Prospect Heights', 40.676822262254724, -73.9648592426269]\n",
            "( 61 / 306 ) Japanese Restaurants in Brownsville, Brooklyn:0\n",
            "['Brooklyn', 'Brownsville', 40.66394994339755, -73.91023536176607]\n",
            "( 62 / 306 ) Japanese Restaurants in Williamsburg, Brooklyn:1\n",
            "['Brooklyn', 'Williamsburg', 40.70714439344251, -73.95811529220927]\n",
            "( 63 / 306 ) Japanese Restaurants in Bushwick, Brooklyn:0\n",
            "['Brooklyn', 'Bushwick', 40.69811611017901, -73.92525797487045]\n",
            "( 64 / 306 ) Japanese Restaurants in Bedford Stuyvesant, Brooklyn:1\n",
            "['Brooklyn', 'Bedford Stuyvesant', 40.687231607720456, -73.94178488690297]\n",
            "( 65 / 306 ) Japanese Restaurants in Brooklyn Heights, Brooklyn:1\n",
            "['Brooklyn', 'Brooklyn Heights', 40.695863722724084, -73.99378225496424]\n",
            "( 66 / 306 ) Japanese Restaurants in Cobble Hill, Brooklyn:1\n",
            "['Brooklyn', 'Cobble Hill', 40.687919722485574, -73.99856139218463]\n",
            "( 67 / 306 ) Japanese Restaurants in Carroll Gardens, Brooklyn:0\n",
            "['Brooklyn', 'Carroll Gardens', 40.680540231076485, -73.99465372828006]\n",
            "( 68 / 306 ) Japanese Restaurants in Red Hook, Brooklyn:0\n",
            "['Brooklyn', 'Red Hook', 40.676253230250886, -74.0127589747356]\n",
            "( 69 / 306 ) Japanese Restaurants in Gowanus, Brooklyn:0\n",
            "['Brooklyn', 'Gowanus', 40.673931143187154, -73.99444087145339]\n",
            "( 70 / 306 ) Japanese Restaurants in Fort Greene, Brooklyn:1\n",
            "['Brooklyn', 'Fort Greene', 40.68852726018977, -73.97290574369092]\n",
            "( 71 / 306 ) Japanese Restaurants in Park Slope, Brooklyn:1\n",
            "['Brooklyn', 'Park Slope', 40.67232052268197, -73.97705030183924]\n",
            "( 72 / 306 ) Japanese Restaurants in Cypress Hills, Brooklyn:0\n",
            "['Brooklyn', 'Cypress Hills', 40.68239101144211, -73.87661596457296]\n",
            "( 73 / 306 ) Japanese Restaurants in East New York, Brooklyn:0\n",
            "['Brooklyn', 'East New York', 40.669925700847045, -73.88069863917366]\n",
            "( 74 / 306 ) Japanese Restaurants in Starrett City, Brooklyn:0\n",
            "['Brooklyn', 'Starrett City', 40.64758905230874, -73.87936970045875]\n",
            "( 75 / 306 ) Japanese Restaurants in Canarsie, Brooklyn:0\n",
            "['Brooklyn', 'Canarsie', 40.63556432797428, -73.90209269778966]\n",
            "( 76 / 306 ) Japanese Restaurants in Flatlands, Brooklyn:0\n",
            "['Brooklyn', 'Flatlands', 40.630446043757466, -73.92911302644674]\n",
            "( 77 / 306 ) Japanese Restaurants in Mill Island, Brooklyn:0\n",
            "['Brooklyn', 'Mill Island', 40.606336421685626, -73.90818571777423]\n",
            "( 78 / 306 ) Japanese Restaurants in Manhattan Beach, Brooklyn:0\n",
            "['Brooklyn', 'Manhattan Beach', 40.57791350308657, -73.94353722891886]\n",
            "( 79 / 306 ) Japanese Restaurants in Coney Island, Brooklyn:0\n",
            "['Brooklyn', 'Coney Island', 40.57429256471601, -73.98868295821637]\n",
            "( 80 / 306 ) Japanese Restaurants in Bath Beach, Brooklyn:0\n",
            "['Brooklyn', 'Bath Beach', 40.59951870282238, -73.99875221443519]\n",
            "( 81 / 306 ) Japanese Restaurants in Borough Park, Brooklyn:0\n",
            "['Brooklyn', 'Borough Park', 40.633130512758015, -73.99049823044811]\n",
            "( 82 / 306 ) Japanese Restaurants in Dyker Heights, Brooklyn:0\n",
            "['Brooklyn', 'Dyker Heights', 40.619219457722636, -74.01931375636022]\n",
            "( 83 / 306 ) Japanese Restaurants in Gerritsen Beach, Brooklyn:0\n",
            "['Brooklyn', 'Gerritsen Beach', 40.590848433902046, -73.93010170691196]\n",
            "( 84 / 306 ) Japanese Restaurants in Marine Park, Brooklyn:0\n",
            "['Brooklyn', 'Marine Park', 40.609747779894604, -73.93134404108497]\n",
            "( 85 / 306 ) Japanese Restaurants in Clinton Hill, Brooklyn:1\n",
            "['Brooklyn', 'Clinton Hill', 40.693229421881504, -73.96784306216367]\n",
            "( 86 / 306 ) Japanese Restaurants in Sea Gate, Brooklyn:0\n",
            "['Brooklyn', 'Sea Gate', 40.57637537890224, -74.0078731120024]\n",
            "( 87 / 306 ) Japanese Restaurants in Downtown, Brooklyn:1\n",
            "['Brooklyn', 'Downtown', 40.69084402109802, -73.98346337431099]\n",
            "( 88 / 306 ) Japanese Restaurants in Boerum Hill, Brooklyn:1\n",
            "['Brooklyn', 'Boerum Hill', 40.685682912091444, -73.98374824115798]\n",
            "( 89 / 306 ) Japanese Restaurants in Prospect Lefferts Gardens, Brooklyn:0\n",
            "['Brooklyn', 'Prospect Lefferts Gardens', 40.658420017469815, -73.95489867077713]\n",
            "( 90 / 306 ) Japanese Restaurants in Ocean Hill, Brooklyn:0\n",
            "['Brooklyn', 'Ocean Hill', 40.678402554795355, -73.91306831787395]\n",
            "( 91 / 306 ) Japanese Restaurants in City Line, Brooklyn:0\n",
            "['Brooklyn', 'City Line', 40.67856995727479, -73.86797598081334]\n",
            "( 92 / 306 ) Japanese Restaurants in Bergen Beach, Brooklyn:0\n",
            "['Brooklyn', 'Bergen Beach', 40.61514955045308, -73.89855633630317]\n",
            "( 93 / 306 ) Japanese Restaurants in Midwood, Brooklyn:0\n",
            "['Brooklyn', 'Midwood', 40.62559589869843, -73.95759523489838]\n",
            "( 94 / 306 ) Japanese Restaurants in Prospect Park South, Brooklyn:0\n",
            "['Brooklyn', 'Prospect Park South', 40.647008603185185, -73.96261316716048]\n",
            "( 95 / 306 ) Japanese Restaurants in Georgetown, Brooklyn:0\n",
            "['Brooklyn', 'Georgetown', 40.62384524478419, -73.91607483951324]\n",
            "( 96 / 306 ) Japanese Restaurants in East Williamsburg, Brooklyn:0\n",
            "['Brooklyn', 'East Williamsburg', 40.70849241041548, -73.93885815269195]\n",
            "( 97 / 306 ) Japanese Restaurants in North Side, Brooklyn:1\n",
            "['Brooklyn', 'North Side', 40.714822906532014, -73.95880857587582]\n",
            "( 98 / 306 ) Japanese Restaurants in South Side, Brooklyn:1\n",
            "['Brooklyn', 'South Side', 40.71086147265064, -73.95800095153331]\n",
            "( 99 / 306 ) Japanese Restaurants in Ocean Parkway, Brooklyn:0\n",
            "['Brooklyn', 'Ocean Parkway', 40.61305976667942, -73.96836678035541]\n",
            "( 100 / 306 ) Japanese Restaurants in Fort Hamilton, Brooklyn:1\n",
            "['Brooklyn', 'Fort Hamilton', 40.61476812694226, -74.03197914537984]\n"
          ],
          "name": "stdout"
        },
        {
          "output_type": "error",
          "ename": "ChunkedEncodingError",
          "evalue": "ignored",
          "traceback": [
            "\u001b[0;31m---------------------------------------------------------------------------\u001b[0m",
            "\u001b[0;31mConnectionResetError\u001b[0m                      Traceback (most recent call last)",
            "\u001b[0;32m/usr/local/lib/python3.6/dist-packages/urllib3/response.py\u001b[0m in \u001b[0;36m_error_catcher\u001b[0;34m(self)\u001b[0m\n\u001b[1;32m    361\u001b[0m             \u001b[0;32mtry\u001b[0m\u001b[0;34m:\u001b[0m\u001b[0;34m\u001b[0m\u001b[0;34m\u001b[0m\u001b[0m\n\u001b[0;32m--> 362\u001b[0;31m                 \u001b[0;32myield\u001b[0m\u001b[0;34m\u001b[0m\u001b[0;34m\u001b[0m\u001b[0m\n\u001b[0m\u001b[1;32m    363\u001b[0m \u001b[0;34m\u001b[0m\u001b[0m\n",
            "\u001b[0;32m/usr/local/lib/python3.6/dist-packages/urllib3/response.py\u001b[0m in \u001b[0;36mread_chunked\u001b[0;34m(self, amt, decode_content)\u001b[0m\n\u001b[1;32m    670\u001b[0m                     \u001b[0;32mbreak\u001b[0m\u001b[0;34m\u001b[0m\u001b[0;34m\u001b[0m\u001b[0m\n\u001b[0;32m--> 671\u001b[0;31m                 \u001b[0mchunk\u001b[0m \u001b[0;34m=\u001b[0m \u001b[0mself\u001b[0m\u001b[0;34m.\u001b[0m\u001b[0m_handle_chunk\u001b[0m\u001b[0;34m(\u001b[0m\u001b[0mamt\u001b[0m\u001b[0;34m)\u001b[0m\u001b[0;34m\u001b[0m\u001b[0;34m\u001b[0m\u001b[0m\n\u001b[0m\u001b[1;32m    672\u001b[0m                 decoded = self._decode(chunk, decode_content=decode_content,\n",
            "\u001b[0;32m/usr/local/lib/python3.6/dist-packages/urllib3/response.py\u001b[0m in \u001b[0;36m_handle_chunk\u001b[0;34m(self, amt)\u001b[0m\n\u001b[1;32m    625\u001b[0m         \u001b[0;32melse\u001b[0m\u001b[0;34m:\u001b[0m  \u001b[0;31m# amt > self.chunk_left\u001b[0m\u001b[0;34m\u001b[0m\u001b[0;34m\u001b[0m\u001b[0m\n\u001b[0;32m--> 626\u001b[0;31m             \u001b[0mreturned_chunk\u001b[0m \u001b[0;34m=\u001b[0m \u001b[0mself\u001b[0m\u001b[0;34m.\u001b[0m\u001b[0m_fp\u001b[0m\u001b[0;34m.\u001b[0m\u001b[0m_safe_read\u001b[0m\u001b[0;34m(\u001b[0m\u001b[0mself\u001b[0m\u001b[0;34m.\u001b[0m\u001b[0mchunk_left\u001b[0m\u001b[0;34m)\u001b[0m\u001b[0;34m\u001b[0m\u001b[0;34m\u001b[0m\u001b[0m\n\u001b[0m\u001b[1;32m    627\u001b[0m             \u001b[0mself\u001b[0m\u001b[0;34m.\u001b[0m\u001b[0m_fp\u001b[0m\u001b[0;34m.\u001b[0m\u001b[0m_safe_read\u001b[0m\u001b[0;34m(\u001b[0m\u001b[0;36m2\u001b[0m\u001b[0;34m)\u001b[0m  \u001b[0;31m# Toss the CRLF at the end of the chunk.\u001b[0m\u001b[0;34m\u001b[0m\u001b[0;34m\u001b[0m\u001b[0m\n",
            "\u001b[0;32m/usr/lib/python3.6/http/client.py\u001b[0m in \u001b[0;36m_safe_read\u001b[0;34m(self, amt)\u001b[0m\n\u001b[1;32m    621\u001b[0m         \u001b[0;32mwhile\u001b[0m \u001b[0mamt\u001b[0m \u001b[0;34m>\u001b[0m \u001b[0;36m0\u001b[0m\u001b[0;34m:\u001b[0m\u001b[0;34m\u001b[0m\u001b[0;34m\u001b[0m\u001b[0m\n\u001b[0;32m--> 622\u001b[0;31m             \u001b[0mchunk\u001b[0m \u001b[0;34m=\u001b[0m \u001b[0mself\u001b[0m\u001b[0;34m.\u001b[0m\u001b[0mfp\u001b[0m\u001b[0;34m.\u001b[0m\u001b[0mread\u001b[0m\u001b[0;34m(\u001b[0m\u001b[0mmin\u001b[0m\u001b[0;34m(\u001b[0m\u001b[0mamt\u001b[0m\u001b[0;34m,\u001b[0m \u001b[0mMAXAMOUNT\u001b[0m\u001b[0;34m)\u001b[0m\u001b[0;34m)\u001b[0m\u001b[0;34m\u001b[0m\u001b[0;34m\u001b[0m\u001b[0m\n\u001b[0m\u001b[1;32m    623\u001b[0m             \u001b[0;32mif\u001b[0m \u001b[0;32mnot\u001b[0m \u001b[0mchunk\u001b[0m\u001b[0;34m:\u001b[0m\u001b[0;34m\u001b[0m\u001b[0;34m\u001b[0m\u001b[0m\n",
            "\u001b[0;32m/usr/lib/python3.6/socket.py\u001b[0m in \u001b[0;36mreadinto\u001b[0;34m(self, b)\u001b[0m\n\u001b[1;32m    585\u001b[0m             \u001b[0;32mtry\u001b[0m\u001b[0;34m:\u001b[0m\u001b[0;34m\u001b[0m\u001b[0;34m\u001b[0m\u001b[0m\n\u001b[0;32m--> 586\u001b[0;31m                 \u001b[0;32mreturn\u001b[0m \u001b[0mself\u001b[0m\u001b[0;34m.\u001b[0m\u001b[0m_sock\u001b[0m\u001b[0;34m.\u001b[0m\u001b[0mrecv_into\u001b[0m\u001b[0;34m(\u001b[0m\u001b[0mb\u001b[0m\u001b[0;34m)\u001b[0m\u001b[0;34m\u001b[0m\u001b[0;34m\u001b[0m\u001b[0m\n\u001b[0m\u001b[1;32m    587\u001b[0m             \u001b[0;32mexcept\u001b[0m \u001b[0mtimeout\u001b[0m\u001b[0;34m:\u001b[0m\u001b[0;34m\u001b[0m\u001b[0;34m\u001b[0m\u001b[0m\n",
            "\u001b[0;32m/usr/lib/python3.6/ssl.py\u001b[0m in \u001b[0;36mrecv_into\u001b[0;34m(self, buffer, nbytes, flags)\u001b[0m\n\u001b[1;32m   1011\u001b[0m                   self.__class__)\n\u001b[0;32m-> 1012\u001b[0;31m             \u001b[0;32mreturn\u001b[0m \u001b[0mself\u001b[0m\u001b[0;34m.\u001b[0m\u001b[0mread\u001b[0m\u001b[0;34m(\u001b[0m\u001b[0mnbytes\u001b[0m\u001b[0;34m,\u001b[0m \u001b[0mbuffer\u001b[0m\u001b[0;34m)\u001b[0m\u001b[0;34m\u001b[0m\u001b[0;34m\u001b[0m\u001b[0m\n\u001b[0m\u001b[1;32m   1013\u001b[0m         \u001b[0;32melse\u001b[0m\u001b[0;34m:\u001b[0m\u001b[0;34m\u001b[0m\u001b[0;34m\u001b[0m\u001b[0m\n",
            "\u001b[0;32m/usr/lib/python3.6/ssl.py\u001b[0m in \u001b[0;36mread\u001b[0;34m(self, len, buffer)\u001b[0m\n\u001b[1;32m    873\u001b[0m         \u001b[0;32mtry\u001b[0m\u001b[0;34m:\u001b[0m\u001b[0;34m\u001b[0m\u001b[0;34m\u001b[0m\u001b[0m\n\u001b[0;32m--> 874\u001b[0;31m             \u001b[0;32mreturn\u001b[0m \u001b[0mself\u001b[0m\u001b[0;34m.\u001b[0m\u001b[0m_sslobj\u001b[0m\u001b[0;34m.\u001b[0m\u001b[0mread\u001b[0m\u001b[0;34m(\u001b[0m\u001b[0mlen\u001b[0m\u001b[0;34m,\u001b[0m \u001b[0mbuffer\u001b[0m\u001b[0;34m)\u001b[0m\u001b[0;34m\u001b[0m\u001b[0;34m\u001b[0m\u001b[0m\n\u001b[0m\u001b[1;32m    875\u001b[0m         \u001b[0;32mexcept\u001b[0m \u001b[0mSSLError\u001b[0m \u001b[0;32mas\u001b[0m \u001b[0mx\u001b[0m\u001b[0;34m:\u001b[0m\u001b[0;34m\u001b[0m\u001b[0;34m\u001b[0m\u001b[0m\n",
            "\u001b[0;32m/usr/lib/python3.6/ssl.py\u001b[0m in \u001b[0;36mread\u001b[0;34m(self, len, buffer)\u001b[0m\n\u001b[1;32m    630\u001b[0m         \u001b[0;32mif\u001b[0m \u001b[0mbuffer\u001b[0m \u001b[0;32mis\u001b[0m \u001b[0;32mnot\u001b[0m \u001b[0;32mNone\u001b[0m\u001b[0;34m:\u001b[0m\u001b[0;34m\u001b[0m\u001b[0;34m\u001b[0m\u001b[0m\n\u001b[0;32m--> 631\u001b[0;31m             \u001b[0mv\u001b[0m \u001b[0;34m=\u001b[0m \u001b[0mself\u001b[0m\u001b[0;34m.\u001b[0m\u001b[0m_sslobj\u001b[0m\u001b[0;34m.\u001b[0m\u001b[0mread\u001b[0m\u001b[0;34m(\u001b[0m\u001b[0mlen\u001b[0m\u001b[0;34m,\u001b[0m \u001b[0mbuffer\u001b[0m\u001b[0;34m)\u001b[0m\u001b[0;34m\u001b[0m\u001b[0;34m\u001b[0m\u001b[0m\n\u001b[0m\u001b[1;32m    632\u001b[0m         \u001b[0;32melse\u001b[0m\u001b[0;34m:\u001b[0m\u001b[0;34m\u001b[0m\u001b[0;34m\u001b[0m\u001b[0m\n",
            "\u001b[0;31mConnectionResetError\u001b[0m: [Errno 104] Connection reset by peer",
            "\nDuring handling of the above exception, another exception occurred:\n",
            "\u001b[0;31mProtocolError\u001b[0m                             Traceback (most recent call last)",
            "\u001b[0;32m/usr/local/lib/python3.6/dist-packages/requests/models.py\u001b[0m in \u001b[0;36mgenerate\u001b[0;34m()\u001b[0m\n\u001b[1;32m    750\u001b[0m                 \u001b[0;32mtry\u001b[0m\u001b[0;34m:\u001b[0m\u001b[0;34m\u001b[0m\u001b[0;34m\u001b[0m\u001b[0m\n\u001b[0;32m--> 751\u001b[0;31m                     \u001b[0;32mfor\u001b[0m \u001b[0mchunk\u001b[0m \u001b[0;32min\u001b[0m \u001b[0mself\u001b[0m\u001b[0;34m.\u001b[0m\u001b[0mraw\u001b[0m\u001b[0;34m.\u001b[0m\u001b[0mstream\u001b[0m\u001b[0;34m(\u001b[0m\u001b[0mchunk_size\u001b[0m\u001b[0;34m,\u001b[0m \u001b[0mdecode_content\u001b[0m\u001b[0;34m=\u001b[0m\u001b[0;32mTrue\u001b[0m\u001b[0;34m)\u001b[0m\u001b[0;34m:\u001b[0m\u001b[0;34m\u001b[0m\u001b[0;34m\u001b[0m\u001b[0m\n\u001b[0m\u001b[1;32m    752\u001b[0m                         \u001b[0;32myield\u001b[0m \u001b[0mchunk\u001b[0m\u001b[0;34m\u001b[0m\u001b[0;34m\u001b[0m\u001b[0m\n",
            "\u001b[0;32m/usr/local/lib/python3.6/dist-packages/urllib3/response.py\u001b[0m in \u001b[0;36mstream\u001b[0;34m(self, amt, decode_content)\u001b[0m\n\u001b[1;32m    491\u001b[0m         \u001b[0;32mif\u001b[0m \u001b[0mself\u001b[0m\u001b[0;34m.\u001b[0m\u001b[0mchunked\u001b[0m \u001b[0;32mand\u001b[0m \u001b[0mself\u001b[0m\u001b[0;34m.\u001b[0m\u001b[0msupports_chunked_reads\u001b[0m\u001b[0;34m(\u001b[0m\u001b[0;34m)\u001b[0m\u001b[0;34m:\u001b[0m\u001b[0;34m\u001b[0m\u001b[0;34m\u001b[0m\u001b[0m\n\u001b[0;32m--> 492\u001b[0;31m             \u001b[0;32mfor\u001b[0m \u001b[0mline\u001b[0m \u001b[0;32min\u001b[0m \u001b[0mself\u001b[0m\u001b[0;34m.\u001b[0m\u001b[0mread_chunked\u001b[0m\u001b[0;34m(\u001b[0m\u001b[0mamt\u001b[0m\u001b[0;34m,\u001b[0m \u001b[0mdecode_content\u001b[0m\u001b[0;34m=\u001b[0m\u001b[0mdecode_content\u001b[0m\u001b[0;34m)\u001b[0m\u001b[0;34m:\u001b[0m\u001b[0;34m\u001b[0m\u001b[0;34m\u001b[0m\u001b[0m\n\u001b[0m\u001b[1;32m    493\u001b[0m                 \u001b[0;32myield\u001b[0m \u001b[0mline\u001b[0m\u001b[0;34m\u001b[0m\u001b[0;34m\u001b[0m\u001b[0m\n",
            "\u001b[0;32m/usr/local/lib/python3.6/dist-packages/urllib3/response.py\u001b[0m in \u001b[0;36mread_chunked\u001b[0;34m(self, amt, decode_content)\u001b[0m\n\u001b[1;32m    695\u001b[0m             \u001b[0;32mif\u001b[0m \u001b[0mself\u001b[0m\u001b[0;34m.\u001b[0m\u001b[0m_original_response\u001b[0m\u001b[0;34m:\u001b[0m\u001b[0;34m\u001b[0m\u001b[0;34m\u001b[0m\u001b[0m\n\u001b[0;32m--> 696\u001b[0;31m                 \u001b[0mself\u001b[0m\u001b[0;34m.\u001b[0m\u001b[0m_original_response\u001b[0m\u001b[0;34m.\u001b[0m\u001b[0mclose\u001b[0m\u001b[0;34m(\u001b[0m\u001b[0;34m)\u001b[0m\u001b[0;34m\u001b[0m\u001b[0;34m\u001b[0m\u001b[0m\n\u001b[0m\u001b[1;32m    697\u001b[0m \u001b[0;34m\u001b[0m\u001b[0m\n",
            "\u001b[0;32m/usr/lib/python3.6/contextlib.py\u001b[0m in \u001b[0;36m__exit__\u001b[0;34m(self, type, value, traceback)\u001b[0m\n\u001b[1;32m     98\u001b[0m             \u001b[0;32mtry\u001b[0m\u001b[0;34m:\u001b[0m\u001b[0;34m\u001b[0m\u001b[0;34m\u001b[0m\u001b[0m\n\u001b[0;32m---> 99\u001b[0;31m                 \u001b[0mself\u001b[0m\u001b[0;34m.\u001b[0m\u001b[0mgen\u001b[0m\u001b[0;34m.\u001b[0m\u001b[0mthrow\u001b[0m\u001b[0;34m(\u001b[0m\u001b[0mtype\u001b[0m\u001b[0;34m,\u001b[0m \u001b[0mvalue\u001b[0m\u001b[0;34m,\u001b[0m \u001b[0mtraceback\u001b[0m\u001b[0;34m)\u001b[0m\u001b[0;34m\u001b[0m\u001b[0;34m\u001b[0m\u001b[0m\n\u001b[0m\u001b[1;32m    100\u001b[0m             \u001b[0;32mexcept\u001b[0m \u001b[0mStopIteration\u001b[0m \u001b[0;32mas\u001b[0m \u001b[0mexc\u001b[0m\u001b[0;34m:\u001b[0m\u001b[0;34m\u001b[0m\u001b[0;34m\u001b[0m\u001b[0m\n",
            "\u001b[0;32m/usr/local/lib/python3.6/dist-packages/urllib3/response.py\u001b[0m in \u001b[0;36m_error_catcher\u001b[0;34m(self)\u001b[0m\n\u001b[1;32m    379\u001b[0m                 \u001b[0;31m# This includes IncompleteRead.\u001b[0m\u001b[0;34m\u001b[0m\u001b[0;34m\u001b[0m\u001b[0;34m\u001b[0m\u001b[0m\n\u001b[0;32m--> 380\u001b[0;31m                 \u001b[0;32mraise\u001b[0m \u001b[0mProtocolError\u001b[0m\u001b[0;34m(\u001b[0m\u001b[0;34m'Connection broken: %r'\u001b[0m \u001b[0;34m%\u001b[0m \u001b[0me\u001b[0m\u001b[0;34m,\u001b[0m \u001b[0me\u001b[0m\u001b[0;34m)\u001b[0m\u001b[0;34m\u001b[0m\u001b[0;34m\u001b[0m\u001b[0m\n\u001b[0m\u001b[1;32m    381\u001b[0m \u001b[0;34m\u001b[0m\u001b[0m\n",
            "\u001b[0;31mProtocolError\u001b[0m: (\"Connection broken: ConnectionResetError(104, 'Connection reset by peer')\", ConnectionResetError(104, 'Connection reset by peer'))",
            "\nDuring handling of the above exception, another exception occurred:\n",
            "\u001b[0;31mChunkedEncodingError\u001b[0m                      Traceback (most recent call last)",
            "\u001b[0;32m<ipython-input-58-fb0f173b51b5>\u001b[0m in \u001b[0;36m<module>\u001b[0;34m()\u001b[0m\n\u001b[1;32m      6\u001b[0m \u001b[0;32mfor\u001b[0m \u001b[0mrow\u001b[0m \u001b[0;32min\u001b[0m \u001b[0mny_data\u001b[0m\u001b[0;34m.\u001b[0m\u001b[0mvalues\u001b[0m\u001b[0;34m.\u001b[0m\u001b[0mtolist\u001b[0m\u001b[0;34m(\u001b[0m\u001b[0;34m)\u001b[0m\u001b[0;34m:\u001b[0m\u001b[0;34m\u001b[0m\u001b[0;34m\u001b[0m\u001b[0m\n\u001b[1;32m      7\u001b[0m     \u001b[0mBorough\u001b[0m\u001b[0;34m,\u001b[0m \u001b[0mNeighborhood\u001b[0m\u001b[0;34m,\u001b[0m \u001b[0mLatitude\u001b[0m\u001b[0;34m,\u001b[0m \u001b[0mLongitude\u001b[0m\u001b[0;34m=\u001b[0m\u001b[0mrow\u001b[0m\u001b[0;34m\u001b[0m\u001b[0;34m\u001b[0m\u001b[0m\n\u001b[0;32m----> 8\u001b[0;31m     \u001b[0mvenues\u001b[0m \u001b[0;34m=\u001b[0m \u001b[0mget_venues\u001b[0m\u001b[0;34m(\u001b[0m\u001b[0mLatitude\u001b[0m\u001b[0;34m,\u001b[0m \u001b[0mLongitude\u001b[0m\u001b[0;34m)\u001b[0m\u001b[0;34m\u001b[0m\u001b[0;34m\u001b[0m\u001b[0m\n\u001b[0m\u001b[1;32m      9\u001b[0m     \u001b[0mjapanese_restaurants\u001b[0m\u001b[0;34m=\u001b[0m\u001b[0mvenues\u001b[0m\u001b[0;34m[\u001b[0m\u001b[0mvenues\u001b[0m\u001b[0;34m[\u001b[0m\u001b[0;34m'Category'\u001b[0m\u001b[0;34m]\u001b[0m\u001b[0;34m==\u001b[0m\u001b[0;34m'Japanese Restaurant'\u001b[0m\u001b[0;34m]\u001b[0m\u001b[0;34m\u001b[0m\u001b[0;34m\u001b[0m\u001b[0m\n\u001b[1;32m     10\u001b[0m     \u001b[0mprint\u001b[0m\u001b[0;34m(\u001b[0m\u001b[0;34m'('\u001b[0m\u001b[0;34m,\u001b[0m\u001b[0mcount\u001b[0m\u001b[0;34m,\u001b[0m\u001b[0;34m'/'\u001b[0m\u001b[0;34m,\u001b[0m\u001b[0mlen\u001b[0m\u001b[0;34m(\u001b[0m\u001b[0mny_data\u001b[0m\u001b[0;34m)\u001b[0m\u001b[0;34m,\u001b[0m\u001b[0;34m')'\u001b[0m\u001b[0;34m,\u001b[0m\u001b[0;34m'Japanese Restaurants in '\u001b[0m\u001b[0;34m+\u001b[0m\u001b[0mNeighborhood\u001b[0m\u001b[0;34m+\u001b[0m\u001b[0;34m', '\u001b[0m\u001b[0;34m+\u001b[0m\u001b[0mBorough\u001b[0m\u001b[0;34m+\u001b[0m\u001b[0;34m':'\u001b[0m\u001b[0;34m+\u001b[0m\u001b[0mstr\u001b[0m\u001b[0;34m(\u001b[0m\u001b[0mlen\u001b[0m\u001b[0;34m(\u001b[0m\u001b[0mjapanese_restaurants\u001b[0m\u001b[0;34m)\u001b[0m\u001b[0;34m)\u001b[0m\u001b[0;34m)\u001b[0m\u001b[0;34m\u001b[0m\u001b[0;34m\u001b[0m\u001b[0m\n",
            "\u001b[0;32m<ipython-input-54-7f68090f711a>\u001b[0m in \u001b[0;36mget_venues\u001b[0;34m(lat, lng)\u001b[0m\n\u001b[1;32m     50\u001b[0m             LIMIT)\n\u001b[1;32m     51\u001b[0m     \u001b[0;31m# get all the data\u001b[0m\u001b[0;34m\u001b[0m\u001b[0;34m\u001b[0m\u001b[0;34m\u001b[0m\u001b[0m\n\u001b[0;32m---> 52\u001b[0;31m     \u001b[0mresults\u001b[0m \u001b[0;34m=\u001b[0m \u001b[0mrequests\u001b[0m\u001b[0;34m.\u001b[0m\u001b[0mget\u001b[0m\u001b[0;34m(\u001b[0m\u001b[0murl\u001b[0m\u001b[0;34m)\u001b[0m\u001b[0;34m.\u001b[0m\u001b[0mjson\u001b[0m\u001b[0;34m(\u001b[0m\u001b[0;34m)\u001b[0m\u001b[0;34m\u001b[0m\u001b[0;34m\u001b[0m\u001b[0m\n\u001b[0m\u001b[1;32m     53\u001b[0m     \u001b[0mvenue_data\u001b[0m\u001b[0;34m=\u001b[0m\u001b[0mresults\u001b[0m\u001b[0;34m[\u001b[0m\u001b[0;34m\"response\"\u001b[0m\u001b[0;34m]\u001b[0m\u001b[0;34m[\u001b[0m\u001b[0;34m'groups'\u001b[0m\u001b[0;34m]\u001b[0m\u001b[0;34m[\u001b[0m\u001b[0;36m0\u001b[0m\u001b[0;34m]\u001b[0m\u001b[0;34m[\u001b[0m\u001b[0;34m'items'\u001b[0m\u001b[0;34m]\u001b[0m\u001b[0;34m\u001b[0m\u001b[0;34m\u001b[0m\u001b[0m\n\u001b[1;32m     54\u001b[0m     \u001b[0mvenue_details\u001b[0m\u001b[0;34m=\u001b[0m\u001b[0;34m[\u001b[0m\u001b[0;34m]\u001b[0m\u001b[0;34m\u001b[0m\u001b[0;34m\u001b[0m\u001b[0m\n",
            "\u001b[0;32m/usr/local/lib/python3.6/dist-packages/requests/api.py\u001b[0m in \u001b[0;36mget\u001b[0;34m(url, params, **kwargs)\u001b[0m\n\u001b[1;32m     74\u001b[0m \u001b[0;34m\u001b[0m\u001b[0m\n\u001b[1;32m     75\u001b[0m     \u001b[0mkwargs\u001b[0m\u001b[0;34m.\u001b[0m\u001b[0msetdefault\u001b[0m\u001b[0;34m(\u001b[0m\u001b[0;34m'allow_redirects'\u001b[0m\u001b[0;34m,\u001b[0m \u001b[0;32mTrue\u001b[0m\u001b[0;34m)\u001b[0m\u001b[0;34m\u001b[0m\u001b[0;34m\u001b[0m\u001b[0m\n\u001b[0;32m---> 76\u001b[0;31m     \u001b[0;32mreturn\u001b[0m \u001b[0mrequest\u001b[0m\u001b[0;34m(\u001b[0m\u001b[0;34m'get'\u001b[0m\u001b[0;34m,\u001b[0m \u001b[0murl\u001b[0m\u001b[0;34m,\u001b[0m \u001b[0mparams\u001b[0m\u001b[0;34m=\u001b[0m\u001b[0mparams\u001b[0m\u001b[0;34m,\u001b[0m \u001b[0;34m**\u001b[0m\u001b[0mkwargs\u001b[0m\u001b[0;34m)\u001b[0m\u001b[0;34m\u001b[0m\u001b[0;34m\u001b[0m\u001b[0m\n\u001b[0m\u001b[1;32m     77\u001b[0m \u001b[0;34m\u001b[0m\u001b[0m\n\u001b[1;32m     78\u001b[0m \u001b[0;34m\u001b[0m\u001b[0m\n",
            "\u001b[0;32m/usr/local/lib/python3.6/dist-packages/requests/api.py\u001b[0m in \u001b[0;36mrequest\u001b[0;34m(method, url, **kwargs)\u001b[0m\n\u001b[1;32m     59\u001b[0m     \u001b[0;31m# cases, and look like a memory leak in others.\u001b[0m\u001b[0;34m\u001b[0m\u001b[0;34m\u001b[0m\u001b[0;34m\u001b[0m\u001b[0m\n\u001b[1;32m     60\u001b[0m     \u001b[0;32mwith\u001b[0m \u001b[0msessions\u001b[0m\u001b[0;34m.\u001b[0m\u001b[0mSession\u001b[0m\u001b[0;34m(\u001b[0m\u001b[0;34m)\u001b[0m \u001b[0;32mas\u001b[0m \u001b[0msession\u001b[0m\u001b[0;34m:\u001b[0m\u001b[0;34m\u001b[0m\u001b[0;34m\u001b[0m\u001b[0m\n\u001b[0;32m---> 61\u001b[0;31m         \u001b[0;32mreturn\u001b[0m \u001b[0msession\u001b[0m\u001b[0;34m.\u001b[0m\u001b[0mrequest\u001b[0m\u001b[0;34m(\u001b[0m\u001b[0mmethod\u001b[0m\u001b[0;34m=\u001b[0m\u001b[0mmethod\u001b[0m\u001b[0;34m,\u001b[0m \u001b[0murl\u001b[0m\u001b[0;34m=\u001b[0m\u001b[0murl\u001b[0m\u001b[0;34m,\u001b[0m \u001b[0;34m**\u001b[0m\u001b[0mkwargs\u001b[0m\u001b[0;34m)\u001b[0m\u001b[0;34m\u001b[0m\u001b[0;34m\u001b[0m\u001b[0m\n\u001b[0m\u001b[1;32m     62\u001b[0m \u001b[0;34m\u001b[0m\u001b[0m\n\u001b[1;32m     63\u001b[0m \u001b[0;34m\u001b[0m\u001b[0m\n",
            "\u001b[0;32m/usr/local/lib/python3.6/dist-packages/requests/sessions.py\u001b[0m in \u001b[0;36mrequest\u001b[0;34m(self, method, url, params, data, headers, cookies, files, auth, timeout, allow_redirects, proxies, hooks, stream, verify, cert, json)\u001b[0m\n\u001b[1;32m    528\u001b[0m         }\n\u001b[1;32m    529\u001b[0m         \u001b[0msend_kwargs\u001b[0m\u001b[0;34m.\u001b[0m\u001b[0mupdate\u001b[0m\u001b[0;34m(\u001b[0m\u001b[0msettings\u001b[0m\u001b[0;34m)\u001b[0m\u001b[0;34m\u001b[0m\u001b[0;34m\u001b[0m\u001b[0m\n\u001b[0;32m--> 530\u001b[0;31m         \u001b[0mresp\u001b[0m \u001b[0;34m=\u001b[0m \u001b[0mself\u001b[0m\u001b[0;34m.\u001b[0m\u001b[0msend\u001b[0m\u001b[0;34m(\u001b[0m\u001b[0mprep\u001b[0m\u001b[0;34m,\u001b[0m \u001b[0;34m**\u001b[0m\u001b[0msend_kwargs\u001b[0m\u001b[0;34m)\u001b[0m\u001b[0;34m\u001b[0m\u001b[0;34m\u001b[0m\u001b[0m\n\u001b[0m\u001b[1;32m    531\u001b[0m \u001b[0;34m\u001b[0m\u001b[0m\n\u001b[1;32m    532\u001b[0m         \u001b[0;32mreturn\u001b[0m \u001b[0mresp\u001b[0m\u001b[0;34m\u001b[0m\u001b[0;34m\u001b[0m\u001b[0m\n",
            "\u001b[0;32m/usr/local/lib/python3.6/dist-packages/requests/sessions.py\u001b[0m in \u001b[0;36msend\u001b[0;34m(self, request, **kwargs)\u001b[0m\n\u001b[1;32m    681\u001b[0m \u001b[0;34m\u001b[0m\u001b[0m\n\u001b[1;32m    682\u001b[0m         \u001b[0;32mif\u001b[0m \u001b[0;32mnot\u001b[0m \u001b[0mstream\u001b[0m\u001b[0;34m:\u001b[0m\u001b[0;34m\u001b[0m\u001b[0;34m\u001b[0m\u001b[0m\n\u001b[0;32m--> 683\u001b[0;31m             \u001b[0mr\u001b[0m\u001b[0;34m.\u001b[0m\u001b[0mcontent\u001b[0m\u001b[0;34m\u001b[0m\u001b[0;34m\u001b[0m\u001b[0m\n\u001b[0m\u001b[1;32m    684\u001b[0m \u001b[0;34m\u001b[0m\u001b[0m\n\u001b[1;32m    685\u001b[0m         \u001b[0;32mreturn\u001b[0m \u001b[0mr\u001b[0m\u001b[0;34m\u001b[0m\u001b[0;34m\u001b[0m\u001b[0m\n",
            "\u001b[0;32m/usr/local/lib/python3.6/dist-packages/requests/models.py\u001b[0m in \u001b[0;36mcontent\u001b[0;34m(self)\u001b[0m\n\u001b[1;32m    827\u001b[0m                 \u001b[0mself\u001b[0m\u001b[0;34m.\u001b[0m\u001b[0m_content\u001b[0m \u001b[0;34m=\u001b[0m \u001b[0;32mNone\u001b[0m\u001b[0;34m\u001b[0m\u001b[0;34m\u001b[0m\u001b[0m\n\u001b[1;32m    828\u001b[0m             \u001b[0;32melse\u001b[0m\u001b[0;34m:\u001b[0m\u001b[0;34m\u001b[0m\u001b[0;34m\u001b[0m\u001b[0m\n\u001b[0;32m--> 829\u001b[0;31m                 \u001b[0mself\u001b[0m\u001b[0;34m.\u001b[0m\u001b[0m_content\u001b[0m \u001b[0;34m=\u001b[0m \u001b[0;34mb''\u001b[0m\u001b[0;34m.\u001b[0m\u001b[0mjoin\u001b[0m\u001b[0;34m(\u001b[0m\u001b[0mself\u001b[0m\u001b[0;34m.\u001b[0m\u001b[0miter_content\u001b[0m\u001b[0;34m(\u001b[0m\u001b[0mCONTENT_CHUNK_SIZE\u001b[0m\u001b[0;34m)\u001b[0m\u001b[0;34m)\u001b[0m \u001b[0;32mor\u001b[0m \u001b[0;34mb''\u001b[0m\u001b[0;34m\u001b[0m\u001b[0;34m\u001b[0m\u001b[0m\n\u001b[0m\u001b[1;32m    830\u001b[0m \u001b[0;34m\u001b[0m\u001b[0m\n\u001b[1;32m    831\u001b[0m         \u001b[0mself\u001b[0m\u001b[0;34m.\u001b[0m\u001b[0m_content_consumed\u001b[0m \u001b[0;34m=\u001b[0m \u001b[0;32mTrue\u001b[0m\u001b[0;34m\u001b[0m\u001b[0;34m\u001b[0m\u001b[0m\n",
            "\u001b[0;32m/usr/local/lib/python3.6/dist-packages/requests/models.py\u001b[0m in \u001b[0;36mgenerate\u001b[0;34m()\u001b[0m\n\u001b[1;32m    752\u001b[0m                         \u001b[0;32myield\u001b[0m \u001b[0mchunk\u001b[0m\u001b[0;34m\u001b[0m\u001b[0;34m\u001b[0m\u001b[0m\n\u001b[1;32m    753\u001b[0m                 \u001b[0;32mexcept\u001b[0m \u001b[0mProtocolError\u001b[0m \u001b[0;32mas\u001b[0m \u001b[0me\u001b[0m\u001b[0;34m:\u001b[0m\u001b[0;34m\u001b[0m\u001b[0;34m\u001b[0m\u001b[0m\n\u001b[0;32m--> 754\u001b[0;31m                     \u001b[0;32mraise\u001b[0m \u001b[0mChunkedEncodingError\u001b[0m\u001b[0;34m(\u001b[0m\u001b[0me\u001b[0m\u001b[0;34m)\u001b[0m\u001b[0;34m\u001b[0m\u001b[0;34m\u001b[0m\u001b[0m\n\u001b[0m\u001b[1;32m    755\u001b[0m                 \u001b[0;32mexcept\u001b[0m \u001b[0mDecodeError\u001b[0m \u001b[0;32mas\u001b[0m \u001b[0me\u001b[0m\u001b[0;34m:\u001b[0m\u001b[0;34m\u001b[0m\u001b[0;34m\u001b[0m\u001b[0m\n\u001b[1;32m    756\u001b[0m                     \u001b[0;32mraise\u001b[0m \u001b[0mContentDecodingError\u001b[0m\u001b[0;34m(\u001b[0m\u001b[0me\u001b[0m\u001b[0;34m)\u001b[0m\u001b[0;34m\u001b[0m\u001b[0;34m\u001b[0m\u001b[0m\n",
            "\u001b[0;31mChunkedEncodingError\u001b[0m: (\"Connection broken: ConnectionResetError(104, 'Connection reset by peer')\", ConnectionResetError(104, 'Connection reset by peer'))"
          ]
        }
      ]
    },
    {
      "cell_type": "code",
      "metadata": {
        "id": "BLT7v-xHnXe7"
      },
      "source": [
        "#japanese_rest_ny.to_csv('japanese_rest_ny_tocsv1.csv') # Save the information so far to a .csv file due to limited calls on FourSquare\n",
        "japanese_rest_ny.to_csv('japanese_rest_ny_tocsv1.csv')"
      ],
      "execution_count": 13,
      "outputs": []
    },
    {
      "cell_type": "code",
      "metadata": {
        "id": "vEpZ8zbundU0"
      },
      "source": [
        "japanese_ny = pd.read_csv('japanese_rest_ny_tocsv1.csv')\n",
        "japanese_rest_ny.tail()"
      ],
      "execution_count": null,
      "outputs": []
    },
    {
      "cell_type": "code",
      "metadata": {
        "id": "ddVhbj5-nmD0",
        "outputId": "607b8a1f-edd3-4f43-88a2-9e789f0f28dc",
        "colab": {
          "base_uri": "https://localhost:8080/",
          "height": 36
        }
      },
      "source": [
        "japanese_rest_ny.shape"
      ],
      "execution_count": 15,
      "outputs": [
        {
          "output_type": "execute_result",
          "data": {
            "text/plain": [
              "(70, 4)"
            ]
          },
          "metadata": {
            "tags": []
          },
          "execution_count": 15
        }
      ]
    },
    {
      "cell_type": "markdown",
      "metadata": {
        "id": "o17cWIR4nuJq"
      },
      "source": [
        "So we got 70 Japanese Restaurants across the New York City.\n",
        "\n",
        "As we continue our analysis, we see below that although Manhattan had the least number of neighborhoods, it does have the highest number of Japanese restaurants. Additionally, we see how many restaurants the top 6 neighborhoods have. The neighborhood of Murray Hill has the highest number of Japanese restaurants in all of NYC and is actually located in the boroughs of Manhattan and Queens.\n"
      ]
    },
    {
      "cell_type": "code",
      "metadata": {
        "id": "mnluLXLAn2E3",
        "outputId": "6f97c2e3-86c4-4221-d50d-c18ef99819d4",
        "colab": {
          "base_uri": "https://localhost:8080/",
          "height": 360
        }
      },
      "source": [
        "japanese_rest_ny.groupby('Borough')['ID'].count().plot.bar(figsize=(10,5), color=clr)\n",
        "plt.title('Japanese Restaurants per Borough: NYC', fontsize = 20)\n",
        "plt.xlabel('Borough', fontsize = 15)\n",
        "plt.ylabel('No. of Japanese Restaurants', fontsize=15)\n",
        "plt.xticks(rotation = 'horizontal')\n",
        "plt.legend()\n",
        "plt.show()"
      ],
      "execution_count": 16,
      "outputs": [
        {
          "output_type": "display_data",
          "data": {
            "image/png": "[encoded data removed]",
            "text/plain": [
              "<Figure size 720x360 with 1 Axes>"
            ]
          },
          "metadata": {
            "tags": [],
            "needs_background": "light"
          }
        }
      ]
    },
    {
      "cell_type": "code",
      "metadata": {
        "id": "IpfoJ4o-oPt8",
        "outputId": "934db429-da74-408a-f42d-0573605725df",
        "colab": {
          "base_uri": "https://localhost:8080/",
          "height": 206
        }
      },
      "source": [
        "japanese_rest_ny[japanese_rest_ny['Neighborhood']=='Murray Hill']"
      ],
      "execution_count": 18,
      "outputs": [
        {
          "output_type": "execute_result",
          "data": {
            "text/html": [
              "<div>\n",
              "<style scoped>\n",
              "    .dataframe tbody tr th:only-of-type {\n",
              "        vertical-align: middle;\n",
              "    }\n",
              "\n",
              "    .dataframe tbody tr th {\n",
              "        vertical-align: top;\n",
              "    }\n",
              "\n",
              "    .dataframe thead th {\n",
              "        text-align: right;\n",
              "    }\n",
              "</style>\n",
              "<table border=\"1\" class=\"dataframe\">\n",
              "  <thead>\n",
              "    <tr style=\"text-align: right;\">\n",
              "      <th></th>\n",
              "      <th>Borough</th>\n",
              "      <th>Neighborhood</th>\n",
              "      <th>ID</th>\n",
              "      <th>Name</th>\n",
              "    </tr>\n",
              "  </thead>\n",
              "  <tbody>\n",
              "    <tr>\n",
              "      <th>20</th>\n",
              "      <td>Manhattan</td>\n",
              "      <td>Murray Hill</td>\n",
              "      <td>4a99b4f4f964a520f62f20e3</td>\n",
              "      <td>Kajitsu</td>\n",
              "    </tr>\n",
              "    <tr>\n",
              "      <th>21</th>\n",
              "      <td>Manhattan</td>\n",
              "      <td>Murray Hill</td>\n",
              "      <td>559cbaa6498eaa4e8d884811</td>\n",
              "      <td>Tempura Matsui</td>\n",
              "    </tr>\n",
              "    <tr>\n",
              "      <th>22</th>\n",
              "      <td>Manhattan</td>\n",
              "      <td>Murray Hill</td>\n",
              "      <td>591caee89deb7d0f69be77a2</td>\n",
              "      <td>Omusubi Gonbei</td>\n",
              "    </tr>\n",
              "    <tr>\n",
              "      <th>23</th>\n",
              "      <td>Manhattan</td>\n",
              "      <td>Murray Hill</td>\n",
              "      <td>540dc46d498e86f0e5059dd2</td>\n",
              "      <td>Zuma New York</td>\n",
              "    </tr>\n",
              "    <tr>\n",
              "      <th>41</th>\n",
              "      <td>Queens</td>\n",
              "      <td>Murray Hill</td>\n",
              "      <td>4bc8eee83740b713fcbe5d65</td>\n",
              "      <td>Northern Sushi</td>\n",
              "    </tr>\n",
              "  </tbody>\n",
              "</table>\n",
              "</div>"
            ],
            "text/plain": [
              "      Borough Neighborhood                        ID            Name\n",
              "20  Manhattan  Murray Hill  4a99b4f4f964a520f62f20e3         Kajitsu\n",
              "21  Manhattan  Murray Hill  559cbaa6498eaa4e8d884811  Tempura Matsui\n",
              "22  Manhattan  Murray Hill  591caee89deb7d0f69be77a2  Omusubi Gonbei\n",
              "23  Manhattan  Murray Hill  540dc46d498e86f0e5059dd2   Zuma New York\n",
              "41     Queens  Murray Hill  4bc8eee83740b713fcbe5d65  Northern Sushi"
            ]
          },
          "metadata": {
            "tags": []
          },
          "execution_count": 18
        }
      ]
    },
    {
      "cell_type": "code",
      "metadata": {
        "id": "KgUER6j9n-Zu",
        "outputId": "09385982-aa58-4c1a-d2d8-18ae615a1ac5",
        "colab": {
          "base_uri": "https://localhost:8080/",
          "height": 360
        }
      },
      "source": [
        "NOofNeigh = 6 # top number for graphing all the same past 6\n",
        "japanese_rest_ny.groupby('Neighborhood')['ID'].count().nlargest(NOofNeigh).plot.bar(figsize=(10,5), color=clr)\n",
        "plt.title('Japanese Restaurants per Neighborhood: NYC', fontsize = 20)\n",
        "plt.xlabel('Neighborhood', fontsize = 15)\n",
        "plt.ylabel('No. of Japanese Restaurants', fontsize=15)\n",
        "plt.xticks(rotation = 'horizontal')\n",
        "plt.legend()\n",
        "plt.show()"
      ],
      "execution_count": 17,
      "outputs": [
        {
          "output_type": "display_data",
          "data": {
            "image/png": "[encoded data removed]",
            "text/plain": [
              "<Figure size 720x360 with 1 Axes>"
            ]
          },
          "metadata": {
            "tags": [],
            "needs_background": "light"
          }
        }
      ]
    },
    {
      "cell_type": "code",
      "metadata": {
        "id": "3vHa2Dh7oXlw",
        "outputId": "ba98fb5e-77d7-47b5-d5ea-93495543bf65",
        "colab": {
          "base_uri": "https://localhost:8080/",
          "height": 206
        }
      },
      "source": [
        "japanese_rest_ny[japanese_rest_ny['Neighborhood']=='Murray Hill']"
      ],
      "execution_count": 19,
      "outputs": [
        {
          "output_type": "execute_result",
          "data": {
            "text/html": [
              "<div>\n",
              "<style scoped>\n",
              "    .dataframe tbody tr th:only-of-type {\n",
              "        vertical-align: middle;\n",
              "    }\n",
              "\n",
              "    .dataframe tbody tr th {\n",
              "        vertical-align: top;\n",
              "    }\n",
              "\n",
              "    .dataframe thead th {\n",
              "        text-align: right;\n",
              "    }\n",
              "</style>\n",
              "<table border=\"1\" class=\"dataframe\">\n",
              "  <thead>\n",
              "    <tr style=\"text-align: right;\">\n",
              "      <th></th>\n",
              "      <th>Borough</th>\n",
              "      <th>Neighborhood</th>\n",
              "      <th>ID</th>\n",
              "      <th>Name</th>\n",
              "    </tr>\n",
              "  </thead>\n",
              "  <tbody>\n",
              "    <tr>\n",
              "      <th>20</th>\n",
              "      <td>Manhattan</td>\n",
              "      <td>Murray Hill</td>\n",
              "      <td>4a99b4f4f964a520f62f20e3</td>\n",
              "      <td>Kajitsu</td>\n",
              "    </tr>\n",
              "    <tr>\n",
              "      <th>21</th>\n",
              "      <td>Manhattan</td>\n",
              "      <td>Murray Hill</td>\n",
              "      <td>559cbaa6498eaa4e8d884811</td>\n",
              "      <td>Tempura Matsui</td>\n",
              "    </tr>\n",
              "    <tr>\n",
              "      <th>22</th>\n",
              "      <td>Manhattan</td>\n",
              "      <td>Murray Hill</td>\n",
              "      <td>591caee89deb7d0f69be77a2</td>\n",
              "      <td>Omusubi Gonbei</td>\n",
              "    </tr>\n",
              "    <tr>\n",
              "      <th>23</th>\n",
              "      <td>Manhattan</td>\n",
              "      <td>Murray Hill</td>\n",
              "      <td>540dc46d498e86f0e5059dd2</td>\n",
              "      <td>Zuma New York</td>\n",
              "    </tr>\n",
              "    <tr>\n",
              "      <th>41</th>\n",
              "      <td>Queens</td>\n",
              "      <td>Murray Hill</td>\n",
              "      <td>4bc8eee83740b713fcbe5d65</td>\n",
              "      <td>Northern Sushi</td>\n",
              "    </tr>\n",
              "  </tbody>\n",
              "</table>\n",
              "</div>"
            ],
            "text/plain": [
              "      Borough Neighborhood                        ID            Name\n",
              "20  Manhattan  Murray Hill  4a99b4f4f964a520f62f20e3         Kajitsu\n",
              "21  Manhattan  Murray Hill  559cbaa6498eaa4e8d884811  Tempura Matsui\n",
              "22  Manhattan  Murray Hill  591caee89deb7d0f69be77a2  Omusubi Gonbei\n",
              "23  Manhattan  Murray Hill  540dc46d498e86f0e5059dd2   Zuma New York\n",
              "41     Queens  Murray Hill  4bc8eee83740b713fcbe5d65  Northern Sushi"
            ]
          },
          "metadata": {
            "tags": []
          },
          "execution_count": 19
        }
      ]
    },
    {
      "cell_type": "markdown",
      "metadata": {
        "id": "94XuQck7ok1Y"
      },
      "source": [
        "\n",
        "So the Murray Hill in Manhattan has the highest number of Japanese Restaurants with a total count of 5.\n",
        "\n",
        "Now we will get the ranking of each restaurant for further analysis.\n"
      ]
    },
    {
      "cell_type": "code",
      "metadata": {
        "id": "LM5DHOLxoaN2"
      },
      "source": [
        "column_names=['Borough', 'Neighborhood', 'ID','Name','Likes','Rating','Tips']\n",
        "japanese_rest_stats_ny=pd.DataFrame(columns=column_names)\n",
        "count=1\n",
        "for row in japanese_rest_ny.values.tolist():\n",
        "    Borough,Neighborhood,ID,Name=row\n",
        "    try:\n",
        "        venue_details=get_venue_details(ID)\n",
        "        print(venue_details)\n",
        "        id,name,likes,rating,tips=venue_details.values.tolist()[0]\n",
        "    except IndexError:\n",
        "        print('No data available for id=',ID)\n",
        "        # we will assign 0 value for these resturants as they may have been \n",
        "        #recently opened or details does not exist in FourSquare Database\n",
        "        id,name,likes,rating,tips=[0]*5\n",
        "    print('(',count,'/',len(japanese_rest_ny),')','processed')\n",
        "    japanese_rest_stats_ny = japanese_rest_stats_ny.append({'Borough': Borough,\n",
        "                                                'Neighborhood': Neighborhood, \n",
        "                                                'ID': id,\n",
        "                                                'Name' : name,\n",
        "                                                'Likes' : likes,\n",
        "                                                'Rating' : rating,\n",
        "                                                'Tips' : tips\n",
        "                                               }, ignore_index=True)\n",
        "    count+=1\n",
        "japanese_rest_stats_ny.tail() "
      ],
      "execution_count": null,
      "outputs": []
    },
    {
      "cell_type": "code",
      "metadata": {
        "id": "cYi8QXAToaMv"
      },
      "source": [
        "japanese_rest_stats_ny.to_csv('japanese_rest_stats_ny_csv.csv') # As I move through this project I continue to save data to a .csv file"
      ],
      "execution_count": 39,
      "outputs": []
    },
    {
      "cell_type": "code",
      "metadata": {
        "id": "P5n5eonjoaJL"
      },
      "source": [
        "japanese_rest_stats_ny.shape"
      ],
      "execution_count": null,
      "outputs": []
    },
    {
      "cell_type": "code",
      "metadata": {
        "id": "dRTNubiEuY04",
        "outputId": "2f8d437a-a24d-4edb-8294-379f73297a5b",
        "colab": {
          "base_uri": "https://localhost:8080/",
          "height": 279
        }
      },
      "source": [
        "japanese_rest_stats_ny.info()"
      ],
      "execution_count": 42,
      "outputs": [
        {
          "output_type": "stream",
          "text": [
            "<class 'pandas.core.frame.DataFrame'>\n",
            "Index: 0 entries\n",
            "Data columns (total 7 columns):\n",
            " #   Column        Non-Null Count  Dtype \n",
            "---  ------        --------------  ----- \n",
            " 0   Borough       0 non-null      object\n",
            " 1   Neighborhood  0 non-null      object\n",
            " 2   ID            0 non-null      object\n",
            " 3   Name          0 non-null      object\n",
            " 4   Likes         0 non-null      object\n",
            " 5   Rating        0 non-null      object\n",
            " 6   Tips          0 non-null      object\n",
            "dtypes: object(7)\n",
            "memory usage: 0.0+ bytes\n"
          ],
          "name": "stdout"
        }
      ]
    },
    {
      "cell_type": "code",
      "metadata": {
        "id": "KfTXLdG_ueFU"
      },
      "source": [
        "japanese_rest_stats_ny['Likes'] = japanese_rest_stats_ny['Likes'].astype('float64')\n",
        "japanese_rest_stats_ny['Tips'] = japanese_rest_stats_ny['Tips'].astype('float64')\n",
        "japanese_rest_stats_ny.info()"
      ],
      "execution_count": null,
      "outputs": []
    },
    {
      "cell_type": "code",
      "metadata": {
        "id": "60v7JRR8uZHl"
      },
      "source": [
        "japanese_rest_stats_ny.describe()"
      ],
      "execution_count": null,
      "outputs": []
    },
    {
      "cell_type": "code",
      "metadata": {
        "id": "esJMC0B8uZOM"
      },
      "source": [
        "# Resturant with maximum Likes\n",
        "japanese_rest_stats_ny.iloc[japanese_rest_stats_ny['Likes'].idxmax()]"
      ],
      "execution_count": null,
      "outputs": []
    },
    {
      "cell_type": "markdown",
      "metadata": {
        "id": "Sc4IOzjG1Tlv"
      },
      "source": [
        "**Now when the data types look correct, let's continue our analysis.**"
      ]
    },
    {
      "cell_type": "code",
      "metadata": {
        "id": "-Pvwh5Aw1YBK"
      },
      "source": [
        "japanese_rest_stats_ny.describe()"
      ],
      "execution_count": null,
      "outputs": []
    },
    {
      "cell_type": "code",
      "metadata": {
        "id": "Oh6r7Y821YWS"
      },
      "source": [
        "# Resturant with maximum Likes\n",
        "japanese_rest_stats_ny.iloc[japanese_rest_stats_ny['Likes'].idxmax()]"
      ],
      "execution_count": null,
      "outputs": []
    },
    {
      "cell_type": "code",
      "metadata": {
        "id": "HlAeY_dO1heM"
      },
      "source": [
        "ny_neighborhood_stats=japanese_rest_stats_ny.groupby('Neighborhood',as_index=False).mean()[['Neighborhood','Rating']]\n",
        "ny_neighborhood_stats.columns=['Neighborhood','Average Rating']\n",
        "ny_neighborhood_stats.sort_values(['Average Rating'],ascending=False).head(10)"
      ],
      "execution_count": null,
      "outputs": []
    },
    {
      "cell_type": "code",
      "metadata": {
        "id": "nwRWMPHp1hmS"
      },
      "source": [
        "ny_borough_stats=japanese_rest_stats_ny.groupby('Borough',as_index=False).mean()[['Borough','Rating']]\n",
        "ny_borough_stats.columns=['Borough','Average Rating']\n",
        "ny_borough_stats.sort_values(['Average Rating'],ascending=False).head()"
      ],
      "execution_count": null,
      "outputs": []
    },
    {
      "cell_type": "code",
      "metadata": {
        "id": "7LxPIbaT1hkL"
      },
      "source": [
        "plt.figure(figsize=(9,5), dpi = 100)\n",
        "plt.title('Average rating of Japanese Restaurants for each Borough')\n",
        "plt.xlabel('Borough', fontsize = 15)\n",
        "plt.ylabel('Average Rating', fontsize=15)\n",
        "japanese_rest_stats_ny.groupby('Borough').mean()['Rating'].plot(kind='bar', color=clr)\n",
        "plt.legend()\n",
        "plt.show()"
      ],
      "execution_count": null,
      "outputs": []
    },
    {
      "cell_type": "code",
      "metadata": {
        "id": "wkNmCkX62Akz"
      },
      "source": [
        "ny_neighborhood_stats=ny_neighborhood_stats[ny_neighborhood_stats['Average Rating']>=8.0]\n",
        "ny_neighborhood_stats"
      ],
      "execution_count": null,
      "outputs": []
    },
    {
      "cell_type": "code",
      "metadata": {
        "id": "mW39Km7D2Ezs"
      },
      "source": [
        "ny_neighborhood_stats=pd.merge(ny_neighborhood_stats,ny_data, on='Neighborhood')\n",
        "ny_neighborhood_stats=ny_neighborhood_stats[['Borough','Neighborhood','Latitude','Longitude','Average Rating']]\n",
        "ny_neighborhood_stats"
      ],
      "execution_count": null,
      "outputs": []
    },
    {
      "cell_type": "markdown",
      "metadata": {
        "id": "qqrABKbC2LnL"
      },
      "source": [
        "**Now we will show this data on a map**"
      ]
    },
    {
      "cell_type": "code",
      "metadata": {
        "id": "t0RZd7nN2S_J"
      },
      "source": [
        "# create map and display it\n",
        "ny_map = folium.Map(location=geo_location('New York'), zoom_start=12)\n",
        "# instantiate a feature group for the ratings in the dataframe\n",
        "rating = folium.map.FeatureGroup()\n",
        "\n",
        "# loop through the ratings and add each to the neighborhood feature group\n",
        "for lat, lng, in ny_neighborhood_stats[['Latitude','Longitude']].values:\n",
        "    rating.add_child(\n",
        "        folium.CircleMarker(\n",
        "            [lat, lng],\n",
        "            radius=10, # define how big you want the circle markers to be\n",
        "            color='yellow',\n",
        "            fill=True,\n",
        "            fill_color='blue',\n",
        "            fill_opacity=0.6\n",
        "        )\n",
        "    )"
      ],
      "execution_count": null,
      "outputs": []
    },
    {
      "cell_type": "markdown",
      "metadata": {
        "id": "KWSbWCmR2fNL"
      },
      "source": [
        "\n",
        "# **Results / Conclusion**\n",
        "\n",
        "Manhattan and Brooklyn have the best rated Japanese restaurants on average. Staten Island and The Bronx have the least amount of Japanese restaurants per borough. However, of note, Murray Hill in Manhattan has the highest number of Japanese Restaurants in all of NY. Despite Manhattan having the least number of neighborhoods in all five boroughs, it has the most number of Japanese restaurants. Based on the above information, I would state that Manhattan and Brooklyn are the best locations for Japanese cuisine in NYC. To have the best shot of success, I would open a Japanese restaurant in Brooklyn. Brooklyn has multiple neighborhoods with average ratings exceeding 8.0 on a scale of 1.0 to 10.0 and has less amount of Japanese restaurants than Manhattan, making competition easier. Also we should keep in mind, that real estate prices in Brooklyn are much cheaper than in Manhattan. Finally, I would go to OOTOYA in Manhattan for the best Japanese food based on 1213 likes. As a final note, all of the above analysis is depended on the accuracy of Four Square data. A more comprehensive analysis and future work would need to incorporate data from other external databases.\n"
      ]
    }
  ]
}